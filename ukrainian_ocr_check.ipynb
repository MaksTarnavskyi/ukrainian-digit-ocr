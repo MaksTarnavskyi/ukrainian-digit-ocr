{
 "cells": [
  {
   "cell_type": "code",
   "execution_count": 1,
   "metadata": {},
   "outputs": [],
   "source": [
    "import cv2 \n",
    "import pytesseract\n",
    "import copy\n",
    "from num2words import num2words\n",
    "import pandas as pd\n",
    "\n",
    "from src.image_preprocessing import *\n",
    "from src.text_processing import process_text\n",
    "from Levenshtein import ratio as levenshtein_ratio"
   ]
  },
  {
   "cell_type": "code",
   "execution_count": 15,
   "metadata": {},
   "outputs": [],
   "source": [
    "filename = '863_442_537_534_316_371_940_223.png'\n",
    "image = cv2.imread(f'data/{filename}')"
   ]
  },
  {
   "cell_type": "code",
   "execution_count": 16,
   "metadata": {},
   "outputs": [],
   "source": [
    "def process_image(image):\n",
    "    functions_to_apply = [get_grayscale, opening, erode]\n",
    "    processed_image = copy.deepcopy(image)\n",
    "\n",
    "    for processing_func in functions_to_apply:\n",
    "        processed_image = processing_func(processed_image)\n",
    "\n",
    "    return processed_image"
   ]
  },
  {
   "cell_type": "code",
   "execution_count": 17,
   "metadata": {},
   "outputs": [
    {
     "name": "stdout",
     "output_type": "stream",
     "text": [
      "триста сбмдесят слин \n"
     ]
    }
   ],
   "source": [
    "custom_config = r'--oem 3 --psm 6 -l ukr'\n",
    "\n",
    "processed_image = process_image(image)\n",
    "extracted_text = pytesseract.image_to_string(processed_image, config=custom_config)\n",
    "processed_text = process_text(extracted_text)\n",
    "\n",
    "print(processed_text)"
   ]
  },
  {
   "cell_type": "code",
   "execution_count": 18,
   "metadata": {},
   "outputs": [],
   "source": [
    "all_candidates_int = [int(val) for val in filename.split('.')[0].split('_')]\n",
    "all_candidates_txt = [num2words(num, lang='ukr') for num in all_candidates_int]"
   ]
  },
  {
   "cell_type": "code",
   "execution_count": 19,
   "metadata": {},
   "outputs": [],
   "source": [
    "ratios = [levenshtein_ratio(num, processed_text) for num in all_candidates_txt]"
   ]
  },
  {
   "cell_type": "code",
   "execution_count": 20,
   "metadata": {},
   "outputs": [
    {
     "data": {
      "text/html": [
       "<div>\n",
       "<style scoped>\n",
       "    .dataframe tbody tr th:only-of-type {\n",
       "        vertical-align: middle;\n",
       "    }\n",
       "\n",
       "    .dataframe tbody tr th {\n",
       "        vertical-align: top;\n",
       "    }\n",
       "\n",
       "    .dataframe thead th {\n",
       "        text-align: right;\n",
       "    }\n",
       "</style>\n",
       "<table border=\"1\" class=\"dataframe\">\n",
       "  <thead>\n",
       "    <tr style=\"text-align: right;\">\n",
       "      <th></th>\n",
       "      <th>number</th>\n",
       "      <th>ratio</th>\n",
       "    </tr>\n",
       "  </thead>\n",
       "  <tbody>\n",
       "    <tr>\n",
       "      <th>6</th>\n",
       "      <td>дев'ятсот сорок</td>\n",
       "      <td>0.333333</td>\n",
       "    </tr>\n",
       "    <tr>\n",
       "      <th>7</th>\n",
       "      <td>двісті двадцять три</td>\n",
       "      <td>0.400000</td>\n",
       "    </tr>\n",
       "    <tr>\n",
       "      <th>3</th>\n",
       "      <td>п'ятсот тридцять чотири</td>\n",
       "      <td>0.409091</td>\n",
       "    </tr>\n",
       "    <tr>\n",
       "      <th>2</th>\n",
       "      <td>п'ятсот тридцять сім</td>\n",
       "      <td>0.439024</td>\n",
       "    </tr>\n",
       "    <tr>\n",
       "      <th>1</th>\n",
       "      <td>чотириста сорок два</td>\n",
       "      <td>0.450000</td>\n",
       "    </tr>\n",
       "    <tr>\n",
       "      <th>0</th>\n",
       "      <td>вісімсот шістдесят три</td>\n",
       "      <td>0.511628</td>\n",
       "    </tr>\n",
       "    <tr>\n",
       "      <th>4</th>\n",
       "      <td>триста шістнадцять</td>\n",
       "      <td>0.564103</td>\n",
       "    </tr>\n",
       "    <tr>\n",
       "      <th>5</th>\n",
       "      <td>триста сімдесят один</td>\n",
       "      <td>0.829268</td>\n",
       "    </tr>\n",
       "  </tbody>\n",
       "</table>\n",
       "</div>"
      ],
      "text/plain": [
       "                    number     ratio\n",
       "6          дев'ятсот сорок  0.333333\n",
       "7      двісті двадцять три  0.400000\n",
       "3  п'ятсот тридцять чотири  0.409091\n",
       "2     п'ятсот тридцять сім  0.439024\n",
       "1      чотириста сорок два  0.450000\n",
       "0   вісімсот шістдесят три  0.511628\n",
       "4       триста шістнадцять  0.564103\n",
       "5     триста сімдесят один  0.829268"
      ]
     },
     "execution_count": 20,
     "metadata": {},
     "output_type": "execute_result"
    }
   ],
   "source": [
    "pd.DataFrame({\"number\": all_candidates_txt, \"ratio\": ratios}).sort_values('ratio')"
   ]
  }
 ],
 "metadata": {
  "kernelspec": {
   "display_name": "Python 3.8.3 ('base')",
   "language": "python",
   "name": "python3"
  },
  "language_info": {
   "codemirror_mode": {
    "name": "ipython",
    "version": 3
   },
   "file_extension": ".py",
   "mimetype": "text/x-python",
   "name": "python",
   "nbconvert_exporter": "python",
   "pygments_lexer": "ipython3",
   "version": "3.8.3"
  },
  "orig_nbformat": 4,
  "vscode": {
   "interpreter": {
    "hash": "86fee29ded2aeb6dab1087908c597833d9a5d919e5a674cd86564f47fd040e41"
   }
  }
 },
 "nbformat": 4,
 "nbformat_minor": 2
}
