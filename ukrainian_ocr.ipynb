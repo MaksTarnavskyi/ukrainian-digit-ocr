{
 "cells": [
  {
   "cell_type": "code",
   "execution_count": 11,
   "metadata": {},
   "outputs": [],
   "source": [
    "import cv2 \n",
    "import pytesseract\n",
    "import copy\n",
    "from num2words import num2words\n",
    "\n",
    "from src.image_preprocessing import process_image\n",
    "from src.text_processing import process_text\n",
    "from Levenshtein import ratio as levenshtein_ratio"
   ]
  },
  {
   "cell_type": "code",
   "execution_count": 4,
   "metadata": {},
   "outputs": [],
   "source": [
    "image = cv2.imread('data/sample_img.jpeg')\n"
   ]
  },
  {
   "cell_type": "code",
   "execution_count": 5,
   "metadata": {},
   "outputs": [
    {
     "name": "stdout",
     "output_type": "stream",
     "text": [
      "п'ятсот дев'яносто еімм \n"
     ]
    }
   ],
   "source": [
    "custom_config = r'--oem 3 --psm 6 -l ukr'\n",
    "\n",
    "processed_image = process_image(image)\n",
    "extracted_text = pytesseract.image_to_string(processed_image, config=custom_config)\n",
    "processed_text = process_text(extracted_text)\n",
    "\n",
    "print(processed_text)"
   ]
  },
  {
   "cell_type": "code",
   "execution_count": 8,
   "metadata": {},
   "outputs": [
    {
     "name": "stdout",
     "output_type": "stream",
     "text": [
      "п'ятсот дев'яносто сім\n"
     ]
    }
   ],
   "source": [
    "desired_text = num2words(597, lang='ukr')\n",
    "\n",
    "print(desired_text)"
   ]
  },
  {
   "cell_type": "code",
   "execution_count": 10,
   "metadata": {},
   "outputs": [
    {
     "data": {
      "text/plain": [
       "0.9130434782608696"
      ]
     },
     "execution_count": 10,
     "metadata": {},
     "output_type": "execute_result"
    }
   ],
   "source": [
    "levenshtein_ratio(desired_text, processed_text)"
   ]
  }
 ],
 "metadata": {
  "kernelspec": {
   "display_name": "Python 3.8.3 ('base')",
   "language": "python",
   "name": "python3"
  },
  "language_info": {
   "codemirror_mode": {
    "name": "ipython",
    "version": 3
   },
   "file_extension": ".py",
   "mimetype": "text/x-python",
   "name": "python",
   "nbconvert_exporter": "python",
   "pygments_lexer": "ipython3",
   "version": "3.8.3"
  },
  "orig_nbformat": 4,
  "vscode": {
   "interpreter": {
    "hash": "86fee29ded2aeb6dab1087908c597833d9a5d919e5a674cd86564f47fd040e41"
   }
  }
 },
 "nbformat": 4,
 "nbformat_minor": 2
}
